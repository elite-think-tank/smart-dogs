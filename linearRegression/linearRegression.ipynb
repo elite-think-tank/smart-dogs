{
  "nbformat": 4,
  "nbformat_minor": 0,
  "metadata": {
    "kernelspec": {
      "display_name": "Python 3",
      "language": "python",
      "name": "python3"
    },
    "language_info": {
      "codemirror_mode": {
        "name": "ipython",
        "version": 3
      },
      "file_extension": ".py",
      "mimetype": "text/x-python",
      "name": "python",
      "nbconvert_exporter": "python",
      "pygments_lexer": "ipython3",
      "version": "3.7.3"
    },
    "colab": {
      "name": "Copy of Hot Dog Regression.ipynb",
      "version": "0.3.2",
      "provenance": [],
      "collapsed_sections": []
    }
  },
  "cells": [
    {
      "cell_type": "markdown",
      "metadata": {
        "id": "oJSGH_Ul6YVW",
        "colab_type": "text"
      },
      "source": [
        "# Ingest Data"
      ]
    },
    {
      "cell_type": "code",
      "metadata": {
        "id": "VxPFwrVRYtjb",
        "colab_type": "code",
        "outputId": "e61a7af8-758e-426e-d7e4-02ca1182fb88",
        "colab": {
          "base_uri": "https://localhost:8080/",
          "height": 54
        }
      },
      "source": [
        "import os\n",
        "import numpy as np\n",
        "import pandas as pd\n",
        "import dask.dataframe as dd\n",
        "\n",
        "from google.colab import drive \n",
        "drive.mount('/content/gdrive')"
      ],
      "execution_count": 2,
      "outputs": [
        {
          "output_type": "stream",
          "text": [
            "Drive already mounted at /content/gdrive; to attempt to forcibly remount, call drive.mount(\"/content/gdrive\", force_remount=True).\n"
          ],
          "name": "stdout"
        }
      ]
    },
    {
      "cell_type": "code",
      "metadata": {
        "id": "XdCecKF_yFTw",
        "colab_type": "code",
        "colab": {}
      },
      "source": [
        "# set this to true to read from Open DataHub\n",
        "USE_ODH = False"
      ],
      "execution_count": 0,
      "outputs": []
    },
    {
      "cell_type": "code",
      "metadata": {
        "id": "QzGLnu72w2wV",
        "colab_type": "code",
        "outputId": "4ecdf454-f02f-481b-f76f-e0d1e6d34a8a",
        "colab": {
          "base_uri": "https://localhost:8080/",
          "height": 34
        }
      },
      "source": [
        "# location of dataset csv on datahub s3\n",
        "BUCKET = \"\" # insert\n",
        "PREFIX = \"\" # insert\n",
        "FILENAME = \"\" # insert\n",
        "ENDPOINT_URL = \"\" # insert\n",
        "s3_path = \"s3://\" + os.path.join(BUCKET, PREFIX, FILENAME)\n",
        "s3_path"
      ],
      "execution_count": 4,
      "outputs": [
        {
          "output_type": "execute_result",
          "data": {
            "text/plain": [
              "'s3://'"
            ]
          },
          "metadata": {
            "tags": []
          },
          "execution_count": 4
        }
      ]
    },
    {
      "cell_type": "markdown",
      "metadata": {
        "id": "ka0FRCjEKAF6",
        "colab_type": "text"
      },
      "source": [
        "**NOTE** If reading data from Open DataHub, make sure that access id and secret key are stored as one of the following ways:\n",
        "\n",
        "1. Inside `~/.aws/credentials` or `~/.aws/config` or `/etc/boto.cfg` or `~/.boto` as `aws_access_key_id=foobar` and `aws_secret_access_key=verysecret`\n",
        "2. Environment variables `AWS_ACCESS_KEY_ID=foobar` and `AWS_SECRET_ACCESS_KEY=verysecret`\n",
        "3. (NOT RECOMMENDED) Plain text string arguments in `storage_options` dict of `dask.dataframe.read_csv`"
      ]
    },
    {
      "cell_type": "code",
      "metadata": {
        "id": "JdQ8rme4Ytjh",
        "colab_type": "code",
        "colab": {}
      },
      "source": [
        "# read in from s3\n",
        "if USE_ODH:\n",
        "  df = dd.read_csv(\n",
        "      s3_path,\n",
        "      header=None,\n",
        "      storage_options={\n",
        "          \"client_kwargs\": {\"endpoint_url\": ENDPOINT_URL}\n",
        "      }\n",
        "  )\n",
        "  # data is small enough to be fit in memory\n",
        "  df = df.compute()\n",
        "  \n",
        "  df_trial = dd.read_csv(\n",
        "      s3_path,\n",
        "      header=None,\n",
        "      storage_options={\n",
        "          \"client_kwargs\": {\"endpoint_url\": ENDPOINT_URL}\n",
        "      }\n",
        "  )\n",
        "  # data is small enough to be fit in memory\n",
        "  df_trial = df_trial.compute()\n",
        "else:\n",
        "  df = pd.read_csv('gdrive/My Drive/allDogs.csv', header=None)\n",
        "  df_trial = pd.read_csv('gdrive/My Drive/trialDogs.csv', header=None)\n",
        "  \n",
        "# prettify df\n",
        "df = df.transpose()\n",
        "new_header = df.iloc[0] \n",
        "df = df[1:] \n",
        "df.columns = new_header\n",
        "\n",
        "# read in trial csv\n",
        "df_trial = df_trial.transpose()\n",
        "new_header = df_trial.iloc[0] \n",
        "df_trial = df_trial[1:] \n",
        "df_trial.columns = new_header"
      ],
      "execution_count": 0,
      "outputs": []
    },
    {
      "cell_type": "code",
      "metadata": {
        "id": "_fZIPtLNYtjl",
        "colab_type": "code",
        "outputId": "73d99df2-d466-4fe8-c55f-3f8f91f7ea9c",
        "colab": {
          "base_uri": "https://localhost:8080/",
          "height": 1000
        }
      },
      "source": [
        "df.head(25)"
      ],
      "execution_count": 6,
      "outputs": [
        {
          "output_type": "execute_result",
          "data": {
            "text/html": [
              "<div>\n",
              "<style scoped>\n",
              "    .dataframe tbody tr th:only-of-type {\n",
              "        vertical-align: middle;\n",
              "    }\n",
              "\n",
              "    .dataframe tbody tr th {\n",
              "        vertical-align: top;\n",
              "    }\n",
              "\n",
              "    .dataframe thead th {\n",
              "        text-align: right;\n",
              "    }\n",
              "</style>\n",
              "<table border=\"1\" class=\"dataframe\">\n",
              "  <thead>\n",
              "    <tr style=\"text-align: right;\">\n",
              "      <th></th>\n",
              "      <th>Dog</th>\n",
              "      <th>Mass</th>\n",
              "      <th>Calories</th>\n",
              "      <th>Fat</th>\n",
              "      <th>Cholesterol</th>\n",
              "      <th>Sodium</th>\n",
              "      <th>Potassium</th>\n",
              "      <th>Carbohydrates</th>\n",
              "      <th>Protein</th>\n",
              "      <th>Time</th>\n",
              "      <th>Temp</th>\n",
              "    </tr>\n",
              "  </thead>\n",
              "  <tbody>\n",
              "    <tr>\n",
              "      <th>1</th>\n",
              "      <td>Smart Dogs Veggie Hot Dogs</td>\n",
              "      <td>42</td>\n",
              "      <td>50</td>\n",
              "      <td>2</td>\n",
              "      <td>0</td>\n",
              "      <td>0.33</td>\n",
              "      <td>0.16</td>\n",
              "      <td>2</td>\n",
              "      <td>7</td>\n",
              "      <td>100</td>\n",
              "      <td>156.6</td>\n",
              "    </tr>\n",
              "    <tr>\n",
              "      <th>2</th>\n",
              "      <td>Smart Dogs Veggie Hot Dogs</td>\n",
              "      <td>42</td>\n",
              "      <td>50</td>\n",
              "      <td>2</td>\n",
              "      <td>0</td>\n",
              "      <td>0.33</td>\n",
              "      <td>0.16</td>\n",
              "      <td>2</td>\n",
              "      <td>7</td>\n",
              "      <td>100</td>\n",
              "      <td>163</td>\n",
              "    </tr>\n",
              "    <tr>\n",
              "      <th>3</th>\n",
              "      <td>Smart Dogs Veggie Hot Dogs</td>\n",
              "      <td>42</td>\n",
              "      <td>50</td>\n",
              "      <td>2</td>\n",
              "      <td>0</td>\n",
              "      <td>0.33</td>\n",
              "      <td>0.16</td>\n",
              "      <td>2</td>\n",
              "      <td>7</td>\n",
              "      <td>90</td>\n",
              "      <td>155.4</td>\n",
              "    </tr>\n",
              "    <tr>\n",
              "      <th>4</th>\n",
              "      <td>Smart Dogs Veggie Hot Dogs</td>\n",
              "      <td>42</td>\n",
              "      <td>50</td>\n",
              "      <td>2</td>\n",
              "      <td>0</td>\n",
              "      <td>0.33</td>\n",
              "      <td>0.16</td>\n",
              "      <td>2</td>\n",
              "      <td>7</td>\n",
              "      <td>80</td>\n",
              "      <td>140.5</td>\n",
              "    </tr>\n",
              "    <tr>\n",
              "      <th>5</th>\n",
              "      <td>Smart Dogs Veggie Hot Dogs</td>\n",
              "      <td>42</td>\n",
              "      <td>50</td>\n",
              "      <td>2</td>\n",
              "      <td>0</td>\n",
              "      <td>0.33</td>\n",
              "      <td>0.16</td>\n",
              "      <td>2</td>\n",
              "      <td>7</td>\n",
              "      <td>60</td>\n",
              "      <td>115.2</td>\n",
              "    </tr>\n",
              "    <tr>\n",
              "      <th>6</th>\n",
              "      <td>Ball Park Franks</td>\n",
              "      <td>53</td>\n",
              "      <td>130</td>\n",
              "      <td>11</td>\n",
              "      <td>0.045</td>\n",
              "      <td>0.48</td>\n",
              "      <td>0</td>\n",
              "      <td>2</td>\n",
              "      <td>5</td>\n",
              "      <td>100</td>\n",
              "      <td>166.1</td>\n",
              "    </tr>\n",
              "    <tr>\n",
              "      <th>7</th>\n",
              "      <td>Ball Park Franks</td>\n",
              "      <td>53</td>\n",
              "      <td>130</td>\n",
              "      <td>11</td>\n",
              "      <td>0.045</td>\n",
              "      <td>0.48</td>\n",
              "      <td>0</td>\n",
              "      <td>2</td>\n",
              "      <td>5</td>\n",
              "      <td>100</td>\n",
              "      <td>164.2</td>\n",
              "    </tr>\n",
              "    <tr>\n",
              "      <th>8</th>\n",
              "      <td>Ball Park Franks</td>\n",
              "      <td>53</td>\n",
              "      <td>130</td>\n",
              "      <td>11</td>\n",
              "      <td>0.045</td>\n",
              "      <td>0.48</td>\n",
              "      <td>0</td>\n",
              "      <td>2</td>\n",
              "      <td>5</td>\n",
              "      <td>90</td>\n",
              "      <td>158.9</td>\n",
              "    </tr>\n",
              "    <tr>\n",
              "      <th>9</th>\n",
              "      <td>Ball Park Franks</td>\n",
              "      <td>53</td>\n",
              "      <td>130</td>\n",
              "      <td>11</td>\n",
              "      <td>0.045</td>\n",
              "      <td>0.48</td>\n",
              "      <td>0</td>\n",
              "      <td>2</td>\n",
              "      <td>5</td>\n",
              "      <td>80</td>\n",
              "      <td>149.2</td>\n",
              "    </tr>\n",
              "    <tr>\n",
              "      <th>10</th>\n",
              "      <td>Ball Park Franks</td>\n",
              "      <td>53</td>\n",
              "      <td>130</td>\n",
              "      <td>11</td>\n",
              "      <td>0.045</td>\n",
              "      <td>0.48</td>\n",
              "      <td>0</td>\n",
              "      <td>2</td>\n",
              "      <td>5</td>\n",
              "      <td>60</td>\n",
              "      <td>128.6</td>\n",
              "    </tr>\n",
              "    <tr>\n",
              "      <th>11</th>\n",
              "      <td>Hebrew National</td>\n",
              "      <td>49</td>\n",
              "      <td>150</td>\n",
              "      <td>13</td>\n",
              "      <td>0.025</td>\n",
              "      <td>450</td>\n",
              "      <td>0</td>\n",
              "      <td>2</td>\n",
              "      <td>6</td>\n",
              "      <td>100</td>\n",
              "      <td>166.6</td>\n",
              "    </tr>\n",
              "    <tr>\n",
              "      <th>12</th>\n",
              "      <td>Hebrew National</td>\n",
              "      <td>49</td>\n",
              "      <td>150</td>\n",
              "      <td>13</td>\n",
              "      <td>0.025</td>\n",
              "      <td>450</td>\n",
              "      <td>0</td>\n",
              "      <td>2</td>\n",
              "      <td>6</td>\n",
              "      <td>100</td>\n",
              "      <td>165.2</td>\n",
              "    </tr>\n",
              "    <tr>\n",
              "      <th>13</th>\n",
              "      <td>Hebrew National</td>\n",
              "      <td>49</td>\n",
              "      <td>150</td>\n",
              "      <td>13</td>\n",
              "      <td>0.025</td>\n",
              "      <td>450</td>\n",
              "      <td>0</td>\n",
              "      <td>2</td>\n",
              "      <td>6</td>\n",
              "      <td>90</td>\n",
              "      <td>159.7</td>\n",
              "    </tr>\n",
              "    <tr>\n",
              "      <th>14</th>\n",
              "      <td>Hebrew National</td>\n",
              "      <td>49</td>\n",
              "      <td>150</td>\n",
              "      <td>13</td>\n",
              "      <td>0.025</td>\n",
              "      <td>450</td>\n",
              "      <td>0</td>\n",
              "      <td>2</td>\n",
              "      <td>6</td>\n",
              "      <td>80</td>\n",
              "      <td>149.6</td>\n",
              "    </tr>\n",
              "    <tr>\n",
              "      <th>15</th>\n",
              "      <td>Hebrew National</td>\n",
              "      <td>49</td>\n",
              "      <td>150</td>\n",
              "      <td>13</td>\n",
              "      <td>0.025</td>\n",
              "      <td>450</td>\n",
              "      <td>0</td>\n",
              "      <td>2</td>\n",
              "      <td>6</td>\n",
              "      <td>60</td>\n",
              "      <td>128.8</td>\n",
              "    </tr>\n",
              "    <tr>\n",
              "      <th>16</th>\n",
              "      <td>Oscar Mayer</td>\n",
              "      <td>45</td>\n",
              "      <td>110</td>\n",
              "      <td>10</td>\n",
              "      <td>0.035</td>\n",
              "      <td>0.42</td>\n",
              "      <td>0</td>\n",
              "      <td>1</td>\n",
              "      <td>5</td>\n",
              "      <td>100</td>\n",
              "      <td>165.5</td>\n",
              "    </tr>\n",
              "    <tr>\n",
              "      <th>17</th>\n",
              "      <td>Oscar Mayer</td>\n",
              "      <td>45</td>\n",
              "      <td>110</td>\n",
              "      <td>10</td>\n",
              "      <td>0.035</td>\n",
              "      <td>0.42</td>\n",
              "      <td>0</td>\n",
              "      <td>1</td>\n",
              "      <td>5</td>\n",
              "      <td>100</td>\n",
              "      <td>164.7</td>\n",
              "    </tr>\n",
              "    <tr>\n",
              "      <th>18</th>\n",
              "      <td>Oscar Mayer</td>\n",
              "      <td>45</td>\n",
              "      <td>110</td>\n",
              "      <td>10</td>\n",
              "      <td>0.035</td>\n",
              "      <td>0.42</td>\n",
              "      <td>0</td>\n",
              "      <td>1</td>\n",
              "      <td>5</td>\n",
              "      <td>90</td>\n",
              "      <td>156.5</td>\n",
              "    </tr>\n",
              "    <tr>\n",
              "      <th>19</th>\n",
              "      <td>Oscar Mayer</td>\n",
              "      <td>45</td>\n",
              "      <td>110</td>\n",
              "      <td>10</td>\n",
              "      <td>0.035</td>\n",
              "      <td>0.42</td>\n",
              "      <td>0</td>\n",
              "      <td>1</td>\n",
              "      <td>5</td>\n",
              "      <td>80</td>\n",
              "      <td>141</td>\n",
              "    </tr>\n",
              "    <tr>\n",
              "      <th>20</th>\n",
              "      <td>Oscar Mayer</td>\n",
              "      <td>45</td>\n",
              "      <td>110</td>\n",
              "      <td>10</td>\n",
              "      <td>0.035</td>\n",
              "      <td>0.42</td>\n",
              "      <td>0</td>\n",
              "      <td>1</td>\n",
              "      <td>5</td>\n",
              "      <td>60</td>\n",
              "      <td>115.1</td>\n",
              "    </tr>\n",
              "  </tbody>\n",
              "</table>\n",
              "</div>"
            ],
            "text/plain": [
              "0                          Dog Mass Calories  ... Protein Time   Temp\n",
              "1   Smart Dogs Veggie Hot Dogs   42       50  ...       7  100  156.6\n",
              "2   Smart Dogs Veggie Hot Dogs   42       50  ...       7  100    163\n",
              "3   Smart Dogs Veggie Hot Dogs   42       50  ...       7   90  155.4\n",
              "4   Smart Dogs Veggie Hot Dogs   42       50  ...       7   80  140.5\n",
              "5   Smart Dogs Veggie Hot Dogs   42       50  ...       7   60  115.2\n",
              "6             Ball Park Franks   53      130  ...       5  100  166.1\n",
              "7             Ball Park Franks   53      130  ...       5  100  164.2\n",
              "8             Ball Park Franks   53      130  ...       5   90  158.9\n",
              "9             Ball Park Franks   53      130  ...       5   80  149.2\n",
              "10            Ball Park Franks   53      130  ...       5   60  128.6\n",
              "11             Hebrew National   49      150  ...       6  100  166.6\n",
              "12             Hebrew National   49      150  ...       6  100  165.2\n",
              "13             Hebrew National   49      150  ...       6   90  159.7\n",
              "14             Hebrew National   49      150  ...       6   80  149.6\n",
              "15             Hebrew National   49      150  ...       6   60  128.8\n",
              "16                 Oscar Mayer   45      110  ...       5  100  165.5\n",
              "17                 Oscar Mayer   45      110  ...       5  100  164.7\n",
              "18                 Oscar Mayer   45      110  ...       5   90  156.5\n",
              "19                 Oscar Mayer   45      110  ...       5   80    141\n",
              "20                 Oscar Mayer   45      110  ...       5   60  115.1\n",
              "\n",
              "[20 rows x 11 columns]"
            ]
          },
          "metadata": {
            "tags": []
          },
          "execution_count": 6
        }
      ]
    },
    {
      "cell_type": "code",
      "metadata": {
        "id": "FhVb-RVa5JSO",
        "colab_type": "code",
        "colab": {}
      },
      "source": [
        "#Optimal Hotdog Temperature\n",
        "#Simple regression Approach\n",
        "\n",
        "from sklearn.linear_model import LinearRegression\n",
        "import pandas as pd\n",
        "import matplotlib.pyplot as plt\n",
        "model_names = ['Ball Park', 'Oscar Mayer', 'Hebrew National', 'Veggie Dog']\n",
        "models = []\n",
        "IDEAL_TEMP = 193"
      ],
      "execution_count": 0,
      "outputs": []
    },
    {
      "cell_type": "code",
      "metadata": {
        "id": "GKcrPoPG5JSS",
        "colab_type": "code",
        "colab": {
          "base_uri": "https://localhost:8080/",
          "height": 293
        },
        "outputId": "0a8c362a-c21f-4386-b2eb-db57c3fcf14c"
      },
      "source": [
        "#Trial 1\n",
        "#Linear Regression with Ball Park Franks\n",
        "\n",
        "ballpark_df = df.loc[df['Dog'] == \"Ball Park Franks\"]\n",
        "ballpark_X = ballpark_df['Time'].values.reshape(-1,1)\n",
        "ballpark_y = ballpark_df['Temp'].values\n",
        "\n",
        "ballpark_model = LinearRegression()\n",
        "ballpark_model.fit(ballpark_X, ballpark_y)\n",
        "models.append(ballpark_model)\n",
        "ballpark_df.head()\n"
      ],
      "execution_count": 8,
      "outputs": [
        {
          "output_type": "execute_result",
          "data": {
            "text/html": [
              "<div>\n",
              "<style scoped>\n",
              "    .dataframe tbody tr th:only-of-type {\n",
              "        vertical-align: middle;\n",
              "    }\n",
              "\n",
              "    .dataframe tbody tr th {\n",
              "        vertical-align: top;\n",
              "    }\n",
              "\n",
              "    .dataframe thead th {\n",
              "        text-align: right;\n",
              "    }\n",
              "</style>\n",
              "<table border=\"1\" class=\"dataframe\">\n",
              "  <thead>\n",
              "    <tr style=\"text-align: right;\">\n",
              "      <th></th>\n",
              "      <th>Dog</th>\n",
              "      <th>Mass</th>\n",
              "      <th>Calories</th>\n",
              "      <th>Fat</th>\n",
              "      <th>Cholesterol</th>\n",
              "      <th>Sodium</th>\n",
              "      <th>Potassium</th>\n",
              "      <th>Carbohydrates</th>\n",
              "      <th>Protein</th>\n",
              "      <th>Time</th>\n",
              "      <th>Temp</th>\n",
              "    </tr>\n",
              "  </thead>\n",
              "  <tbody>\n",
              "    <tr>\n",
              "      <th>6</th>\n",
              "      <td>Ball Park Franks</td>\n",
              "      <td>53</td>\n",
              "      <td>130</td>\n",
              "      <td>11</td>\n",
              "      <td>0.045</td>\n",
              "      <td>0.48</td>\n",
              "      <td>0</td>\n",
              "      <td>2</td>\n",
              "      <td>5</td>\n",
              "      <td>100</td>\n",
              "      <td>166.1</td>\n",
              "    </tr>\n",
              "    <tr>\n",
              "      <th>7</th>\n",
              "      <td>Ball Park Franks</td>\n",
              "      <td>53</td>\n",
              "      <td>130</td>\n",
              "      <td>11</td>\n",
              "      <td>0.045</td>\n",
              "      <td>0.48</td>\n",
              "      <td>0</td>\n",
              "      <td>2</td>\n",
              "      <td>5</td>\n",
              "      <td>100</td>\n",
              "      <td>164.2</td>\n",
              "    </tr>\n",
              "    <tr>\n",
              "      <th>8</th>\n",
              "      <td>Ball Park Franks</td>\n",
              "      <td>53</td>\n",
              "      <td>130</td>\n",
              "      <td>11</td>\n",
              "      <td>0.045</td>\n",
              "      <td>0.48</td>\n",
              "      <td>0</td>\n",
              "      <td>2</td>\n",
              "      <td>5</td>\n",
              "      <td>90</td>\n",
              "      <td>158.9</td>\n",
              "    </tr>\n",
              "    <tr>\n",
              "      <th>9</th>\n",
              "      <td>Ball Park Franks</td>\n",
              "      <td>53</td>\n",
              "      <td>130</td>\n",
              "      <td>11</td>\n",
              "      <td>0.045</td>\n",
              "      <td>0.48</td>\n",
              "      <td>0</td>\n",
              "      <td>2</td>\n",
              "      <td>5</td>\n",
              "      <td>80</td>\n",
              "      <td>149.2</td>\n",
              "    </tr>\n",
              "    <tr>\n",
              "      <th>10</th>\n",
              "      <td>Ball Park Franks</td>\n",
              "      <td>53</td>\n",
              "      <td>130</td>\n",
              "      <td>11</td>\n",
              "      <td>0.045</td>\n",
              "      <td>0.48</td>\n",
              "      <td>0</td>\n",
              "      <td>2</td>\n",
              "      <td>5</td>\n",
              "      <td>60</td>\n",
              "      <td>128.6</td>\n",
              "    </tr>\n",
              "  </tbody>\n",
              "</table>\n",
              "</div>"
            ],
            "text/plain": [
              "0                Dog Mass Calories Fat  ... Carbohydrates Protein Time   Temp\n",
              "6   Ball Park Franks   53      130  11  ...             2       5  100  166.1\n",
              "7   Ball Park Franks   53      130  11  ...             2       5  100  164.2\n",
              "8   Ball Park Franks   53      130  11  ...             2       5   90  158.9\n",
              "9   Ball Park Franks   53      130  11  ...             2       5   80  149.2\n",
              "10  Ball Park Franks   53      130  11  ...             2       5   60  128.6\n",
              "\n",
              "[5 rows x 11 columns]"
            ]
          },
          "metadata": {
            "tags": []
          },
          "execution_count": 8
        }
      ]
    },
    {
      "cell_type": "code",
      "metadata": {
        "id": "8-cwQeR25JSY",
        "colab_type": "code",
        "outputId": "970db61a-a25d-4344-f92d-ed53a771f3c8",
        "colab": {
          "base_uri": "https://localhost:8080/",
          "height": 255
        }
      },
      "source": [
        "pred = ballpark_model.predict(ballpark_X)\n",
        "\n",
        "ballpark_X = list(map(float, ballpark_X))\n",
        "ballpark_y = list(map(float, ballpark_y))\n",
        "\n",
        "plt.scatter(ballpark_X, ballpark_y,  color='black')\n",
        "plt.plot(ballpark_X, pred, color='blue', linewidth=3)\n",
        "\n",
        "plt.xticks(())\n",
        "plt.yticks(())\n",
        "\n",
        "plt.show()"
      ],
      "execution_count": 9,
      "outputs": [
        {
          "output_type": "display_data",
          "data": {
            "image/png": "[encoded data removed]",
            "text/plain": [
              "<Figure size 432x288 with 1 Axes>"
            ]
          },
          "metadata": {
            "tags": []
          }
        }
      ]
    },
    {
      "cell_type": "code",
      "metadata": {
        "id": "M6kFcAXI5JSc",
        "colab_type": "code",
        "colab": {}
      },
      "source": [
        "#Trial 2\n",
        "#Linear Regression with Oscar Mayer\n",
        "\n",
        "oscar_df = df.loc[df['Dog'] == \"Oscar Mayer\"]\n",
        "oscar_X = oscar_df['Time'].values.reshape(-1,1)\n",
        "oscar_y = oscar_df['Temp'].values\n",
        "\n",
        "oscar_model = LinearRegression()\n",
        "oscar_model.fit(oscar_X, oscar_y)\n",
        "models.append(oscar_model)"
      ],
      "execution_count": 0,
      "outputs": []
    },
    {
      "cell_type": "code",
      "metadata": {
        "id": "9gEnuL_15JSf",
        "colab_type": "code",
        "outputId": "cc821841-02f9-4720-f5a9-db5fc9e1cb39",
        "colab": {
          "base_uri": "https://localhost:8080/",
          "height": 255
        }
      },
      "source": [
        "pred = oscar_model.predict(oscar_X)\n",
        "\n",
        "oscar_X = list(map(float, oscar_X))\n",
        "oscar_y = list(map(float, oscar_y))\n",
        "\n",
        "plt.scatter(oscar_X, oscar_y,  color='black')\n",
        "plt.plot(oscar_X, pred, color='blue', linewidth=3)\n",
        "\n",
        "plt.xticks(())\n",
        "plt.yticks(())\n",
        "\n",
        "plt.show()"
      ],
      "execution_count": 11,
      "outputs": [
        {
          "output_type": "display_data",
          "data": {
            "image/png": "[encoded data removed]",
            "text/plain": [
              "<Figure size 432x288 with 1 Axes>"
            ]
          },
          "metadata": {
            "tags": []
          }
        }
      ]
    },
    {
      "cell_type": "code",
      "metadata": {
        "id": "GEIhtM0H5JSi",
        "colab_type": "code",
        "colab": {}
      },
      "source": [
        "#Trial 3\n",
        "#Linear Regression with Hebrew National\n",
        "\n",
        "hebrew_df = df.loc[df['Dog'] == \"Hebrew National\"]\n",
        "hebrew_X = hebrew_df['Time'].values.reshape(-1,1)\n",
        "hebrew_y = hebrew_df['Temp'].values\n",
        "\n",
        "hebrew_model = LinearRegression()\n",
        "hebrew_model.fit(hebrew_X, hebrew_y)\n",
        "models.append(hebrew_model)"
      ],
      "execution_count": 0,
      "outputs": []
    },
    {
      "cell_type": "code",
      "metadata": {
        "id": "zX_5OLQy5JSk",
        "colab_type": "code",
        "outputId": "23dbc9df-45da-484d-837c-54a3bb5f5ad5",
        "colab": {
          "base_uri": "https://localhost:8080/",
          "height": 255
        }
      },
      "source": [
        "pred = hebrew_model.predict(hebrew_X)\n",
        "\n",
        "hebrew_X = list(map(float, hebrew_X))\n",
        "hebrew_y = list(map(float, hebrew_y))\n",
        "\n",
        "plt.scatter(hebrew_X, hebrew_y,  color='black')\n",
        "plt.plot(hebrew_X, pred, color='blue', linewidth=3)\n",
        "\n",
        "plt.xticks(())\n",
        "plt.yticks(())\n",
        "\n",
        "plt.show()"
      ],
      "execution_count": 13,
      "outputs": [
        {
          "output_type": "display_data",
          "data": {
            "image/png": "[encoded data removed]",
            "text/plain": [
              "<Figure size 432x288 with 1 Axes>"
            ]
          },
          "metadata": {
            "tags": []
          }
        }
      ]
    },
    {
      "cell_type": "code",
      "metadata": {
        "id": "wdYue1nN5JSn",
        "colab_type": "code",
        "colab": {}
      },
      "source": [
        "#Trial 4\n",
        "#Linear Regression with Veggie Dog\n",
        "\n",
        "veggie_df = df.loc[df['Dog'] == \"Smart Dogs Veggie Hot Dogs\"]\n",
        "veggie_X = veggie_df['Time'].values.reshape(-1,1)\n",
        "veggie_y = veggie_df['Temp'].values\n",
        "\n",
        "veggie_model = LinearRegression()\n",
        "veggie_model.fit(veggie_X,veggie_y)\n",
        "models.append(veggie_model)"
      ],
      "execution_count": 0,
      "outputs": []
    },
    {
      "cell_type": "code",
      "metadata": {
        "id": "N-7x39XF5JSq",
        "colab_type": "code",
        "outputId": "ffed11d2-8076-424a-91c0-c8f6080aa9ed",
        "colab": {
          "base_uri": "https://localhost:8080/",
          "height": 255
        }
      },
      "source": [
        "pred = veggie_model.predict(veggie_X)\n",
        "\n",
        "veggie_X = list(map(float, veggie_X))\n",
        "veggie_y = list(map(float, veggie_y))\n",
        "\n",
        "plt.scatter(veggie_X, veggie_y,  color='black')\n",
        "plt.plot(veggie_X, pred, color='blue', linewidth=3)\n",
        "\n",
        "plt.xticks(())\n",
        "plt.yticks(())\n",
        "\n",
        "plt.show()"
      ],
      "execution_count": 15,
      "outputs": [
        {
          "output_type": "display_data",
          "data": {
            "image/png": "[encoded data removed]",
            "text/plain": [
              "<Figure size 432x288 with 1 Axes>"
            ]
          },
          "metadata": {
            "tags": []
          }
        }
      ]
    },
    {
      "cell_type": "code",
      "metadata": {
        "id": "8BGl9ikZ5JSt",
        "colab_type": "code",
        "outputId": "edb7d74f-d30b-48b3-e6de-9d70a06a46cb",
        "colab": {
          "base_uri": "https://localhost:8080/",
          "height": 86
        }
      },
      "source": [
        "for model, name in zip(models, model_names):\n",
        "    cook_time = (IDEAL_TEMP - model.intercept_)/model.coef_\n",
        "    print(f'Ideal cook time for {name} is {cook_time}')"
      ],
      "execution_count": 17,
      "outputs": [
        {
          "output_type": "stream",
          "text": [
            "Ideal cook time for Ball Park is [129.43976494]\n",
            "Ideal cook time for Oscar Mayer is [121.29485179]\n",
            "Ideal cook time for Hebrew National is [128.11873554]\n",
            "Ideal cook time for Veggie Dog is [127.72618858]\n"
          ],
          "name": "stdout"
        }
      ]
    },
    {
      "cell_type": "code",
      "metadata": {
        "id": "TrNzrBvG5JSw",
        "colab_type": "code",
        "colab": {}
      },
      "source": [
        "#Multvariate Approach\n"
      ],
      "execution_count": 0,
      "outputs": []
    }
  ]
}