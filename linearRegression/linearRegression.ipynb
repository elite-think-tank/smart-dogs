{
 "cells": [
  {
   "cell_type": "markdown",
   "metadata": {
    "colab_type": "text",
    "id": "oJSGH_Ul6YVW"
   },
   "source": [
    "# Ingest Data"
   ]
  },
  {
   "cell_type": "code",
   "execution_count": 17,
   "metadata": {
    "colab": {
     "base_uri": "https://localhost:8080/",
     "height": 54
    },
    "colab_type": "code",
    "id": "VxPFwrVRYtjb",
    "outputId": "e61a7af8-758e-426e-d7e4-02ca1182fb88"
   },
   "outputs": [],
   "source": [
    "import os\n",
    "import numpy as np\n",
    "import pandas as pd\n",
    "import dask.dataframe as dd"
   ]
  },
  {
   "cell_type": "code",
   "execution_count": 18,
   "metadata": {
    "colab": {},
    "colab_type": "code",
    "id": "XdCecKF_yFTw"
   },
   "outputs": [],
   "source": [
    "# set this to true to read from Open DataHub\n",
    "USE_ODH = False"
   ]
  },
  {
   "cell_type": "code",
   "execution_count": 44,
   "metadata": {
    "colab": {
     "base_uri": "https://localhost:8080/",
     "height": 34
    },
    "colab_type": "code",
    "id": "QzGLnu72w2wV",
    "outputId": "4ecdf454-f02f-481b-f76f-e0d1e6d34a8a"
   },
   "outputs": [
    {
     "data": {
      "text/plain": [
       "'s3://'"
      ]
     },
     "execution_count": 44,
     "metadata": {},
     "output_type": "execute_result"
    }
   ],
   "source": [
    "# location of dataset csv on datahub s3\n",
    "BUCKET = \"\" # insert\n",
    "PREFIX = \"\" # insert\n",
    "FILENAME = \"\" # insert\n",
    "ENDPOINT_URL = \"\" # insert\n",
    "s3_path = \"s3://\" + os.path.join(BUCKET, PREFIX, FILENAME)\n",
    "s3_path"
   ]
  },
  {
   "cell_type": "markdown",
   "metadata": {
    "colab_type": "text",
    "id": "ka0FRCjEKAF6"
   },
   "source": [
    "**NOTE** If reading data from Open DataHub, make sure that access id and secret key are stored as one of the following ways:\n",
    "\n",
    "1. Inside `~/.aws/credentials` or `~/.aws/config` or `/etc/boto.cfg` or `~/.boto` as `aws_access_key_id=foobar` and `aws_secret_access_key=verysecret`\n",
    "2. Environment variables `AWS_ACCESS_KEY_ID=foobar` and `AWS_SECRET_ACCESS_KEY=verysecret`\n",
    "3. (NOT RECOMMENDED) Plain text string arguments in `storage_options` dict of `dask.dataframe.read_csv`"
   ]
  },
  {
   "cell_type": "code",
   "execution_count": 45,
   "metadata": {
    "colab": {},
    "colab_type": "code",
    "id": "JdQ8rme4Ytjh"
   },
   "outputs": [],
   "source": [
    "# read in from s3\n",
    "if USE_ODH:\n",
    "  df = dd.read_csv(\n",
    "      s3_path,\n",
    "      header=None,\n",
    "      storage_options={\n",
    "          \"client_kwargs\": {\"endpoint_url\": ENDPOINT_URL}\n",
    "      }\n",
    "  )\n",
    "  # data is small enough to be fit in memory\n",
    "  df = df.compute()\n",
    "  \n",
    "  df_trial = dd.read_csv(\n",
    "      s3_path,\n",
    "      header=None,\n",
    "      storage_options={\n",
    "          \"client_kwargs\": {\"endpoint_url\": ENDPOINT_URL}\n",
    "      }\n",
    "  )\n",
    "  # data is small enough to be fit in memory\n",
    "  df_trial = df_trial.compute()\n",
    "else:\n",
    "  df = pd.read_csv('allDogs.csv', header=None)\n",
    "  df_trial = pd.read_csv('trialDogs.csv', header=None)\n",
    "  \n",
    "# prettify df\n",
    "df = df.transpose()\n",
    "new_header = df.iloc[0] \n",
    "df = df[1:] \n",
    "df.columns = new_header\n",
    "\n",
    "# read in trial csv\n",
    "df_trial = df_trial.transpose()\n",
    "new_header = df_trial.iloc[0] \n",
    "df_trial = df_trial[1:] \n",
    "df_trial.columns = new_header"
   ]
  },
  {
   "cell_type": "code",
   "execution_count": 46,
   "metadata": {
    "colab": {
     "base_uri": "https://localhost:8080/",
     "height": 1000
    },
    "colab_type": "code",
    "id": "_fZIPtLNYtjl",
    "outputId": "73d99df2-d466-4fe8-c55f-3f8f91f7ea9c",
    "scrolled": true
   },
   "outputs": [
    {
     "data": {
      "text/html": [
       "<div>\n",
       "<table border=\"1\" class=\"dataframe\">\n",
       "  <thead>\n",
       "    <tr style=\"text-align: right;\">\n",
       "      <th></th>\n",
       "      <th>Dog</th>\n",
       "      <th>Mass</th>\n",
       "      <th>Calories</th>\n",
       "      <th>Fat</th>\n",
       "      <th>Cholesterol</th>\n",
       "      <th>Sodium</th>\n",
       "      <th>Potassium</th>\n",
       "      <th>Carbohydrates</th>\n",
       "      <th>Protein</th>\n",
       "      <th>Time</th>\n",
       "      <th>Temp</th>\n",
       "    </tr>\n",
       "  </thead>\n",
       "  <tbody>\n",
       "    <tr>\n",
       "      <th>1</th>\n",
       "      <td>Smart Dogs Veggie Hot Dogs</td>\n",
       "      <td>42</td>\n",
       "      <td>50</td>\n",
       "      <td>2</td>\n",
       "      <td>0</td>\n",
       "      <td>0.33</td>\n",
       "      <td>0.16</td>\n",
       "      <td>2</td>\n",
       "      <td>7</td>\n",
       "      <td>100</td>\n",
       "      <td>156.6</td>\n",
       "    </tr>\n",
       "    <tr>\n",
       "      <th>2</th>\n",
       "      <td>Smart Dogs Veggie Hot Dogs</td>\n",
       "      <td>42</td>\n",
       "      <td>50</td>\n",
       "      <td>2</td>\n",
       "      <td>0</td>\n",
       "      <td>0.33</td>\n",
       "      <td>0.16</td>\n",
       "      <td>2</td>\n",
       "      <td>7</td>\n",
       "      <td>100</td>\n",
       "      <td>163</td>\n",
       "    </tr>\n",
       "    <tr>\n",
       "      <th>3</th>\n",
       "      <td>Smart Dogs Veggie Hot Dogs</td>\n",
       "      <td>42</td>\n",
       "      <td>50</td>\n",
       "      <td>2</td>\n",
       "      <td>0</td>\n",
       "      <td>0.33</td>\n",
       "      <td>0.16</td>\n",
       "      <td>2</td>\n",
       "      <td>7</td>\n",
       "      <td>90</td>\n",
       "      <td>155.4</td>\n",
       "    </tr>\n",
       "    <tr>\n",
       "      <th>4</th>\n",
       "      <td>Smart Dogs Veggie Hot Dogs</td>\n",
       "      <td>42</td>\n",
       "      <td>50</td>\n",
       "      <td>2</td>\n",
       "      <td>0</td>\n",
       "      <td>0.33</td>\n",
       "      <td>0.16</td>\n",
       "      <td>2</td>\n",
       "      <td>7</td>\n",
       "      <td>80</td>\n",
       "      <td>140.5</td>\n",
       "    </tr>\n",
       "    <tr>\n",
       "      <th>5</th>\n",
       "      <td>Smart Dogs Veggie Hot Dogs</td>\n",
       "      <td>42</td>\n",
       "      <td>50</td>\n",
       "      <td>2</td>\n",
       "      <td>0</td>\n",
       "      <td>0.33</td>\n",
       "      <td>0.16</td>\n",
       "      <td>2</td>\n",
       "      <td>7</td>\n",
       "      <td>60</td>\n",
       "      <td>115.2</td>\n",
       "    </tr>\n",
       "    <tr>\n",
       "      <th>6</th>\n",
       "      <td>Ball Park Franks</td>\n",
       "      <td>53</td>\n",
       "      <td>130</td>\n",
       "      <td>11</td>\n",
       "      <td>0.045</td>\n",
       "      <td>0.48</td>\n",
       "      <td>0</td>\n",
       "      <td>2</td>\n",
       "      <td>5</td>\n",
       "      <td>100</td>\n",
       "      <td>166.1</td>\n",
       "    </tr>\n",
       "    <tr>\n",
       "      <th>7</th>\n",
       "      <td>Ball Park Franks</td>\n",
       "      <td>53</td>\n",
       "      <td>130</td>\n",
       "      <td>11</td>\n",
       "      <td>0.045</td>\n",
       "      <td>0.48</td>\n",
       "      <td>0</td>\n",
       "      <td>2</td>\n",
       "      <td>5</td>\n",
       "      <td>100</td>\n",
       "      <td>164.2</td>\n",
       "    </tr>\n",
       "    <tr>\n",
       "      <th>8</th>\n",
       "      <td>Ball Park Franks</td>\n",
       "      <td>53</td>\n",
       "      <td>130</td>\n",
       "      <td>11</td>\n",
       "      <td>0.045</td>\n",
       "      <td>0.48</td>\n",
       "      <td>0</td>\n",
       "      <td>2</td>\n",
       "      <td>5</td>\n",
       "      <td>90</td>\n",
       "      <td>158.9</td>\n",
       "    </tr>\n",
       "    <tr>\n",
       "      <th>9</th>\n",
       "      <td>Ball Park Franks</td>\n",
       "      <td>53</td>\n",
       "      <td>130</td>\n",
       "      <td>11</td>\n",
       "      <td>0.045</td>\n",
       "      <td>0.48</td>\n",
       "      <td>0</td>\n",
       "      <td>2</td>\n",
       "      <td>5</td>\n",
       "      <td>80</td>\n",
       "      <td>149.2</td>\n",
       "    </tr>\n",
       "    <tr>\n",
       "      <th>10</th>\n",
       "      <td>Ball Park Franks</td>\n",
       "      <td>53</td>\n",
       "      <td>130</td>\n",
       "      <td>11</td>\n",
       "      <td>0.045</td>\n",
       "      <td>0.48</td>\n",
       "      <td>0</td>\n",
       "      <td>2</td>\n",
       "      <td>5</td>\n",
       "      <td>60</td>\n",
       "      <td>128.6</td>\n",
       "    </tr>\n",
       "    <tr>\n",
       "      <th>11</th>\n",
       "      <td>Hebrew National</td>\n",
       "      <td>49</td>\n",
       "      <td>150</td>\n",
       "      <td>13</td>\n",
       "      <td>0.025</td>\n",
       "      <td>450</td>\n",
       "      <td>0</td>\n",
       "      <td>2</td>\n",
       "      <td>6</td>\n",
       "      <td>100</td>\n",
       "      <td>166.6</td>\n",
       "    </tr>\n",
       "    <tr>\n",
       "      <th>12</th>\n",
       "      <td>Hebrew National</td>\n",
       "      <td>49</td>\n",
       "      <td>150</td>\n",
       "      <td>13</td>\n",
       "      <td>0.025</td>\n",
       "      <td>450</td>\n",
       "      <td>0</td>\n",
       "      <td>2</td>\n",
       "      <td>6</td>\n",
       "      <td>100</td>\n",
       "      <td>165.2</td>\n",
       "    </tr>\n",
       "    <tr>\n",
       "      <th>13</th>\n",
       "      <td>Hebrew National</td>\n",
       "      <td>49</td>\n",
       "      <td>150</td>\n",
       "      <td>13</td>\n",
       "      <td>0.025</td>\n",
       "      <td>450</td>\n",
       "      <td>0</td>\n",
       "      <td>2</td>\n",
       "      <td>6</td>\n",
       "      <td>90</td>\n",
       "      <td>159.7</td>\n",
       "    </tr>\n",
       "    <tr>\n",
       "      <th>14</th>\n",
       "      <td>Hebrew National</td>\n",
       "      <td>49</td>\n",
       "      <td>150</td>\n",
       "      <td>13</td>\n",
       "      <td>0.025</td>\n",
       "      <td>450</td>\n",
       "      <td>0</td>\n",
       "      <td>2</td>\n",
       "      <td>6</td>\n",
       "      <td>80</td>\n",
       "      <td>149.6</td>\n",
       "    </tr>\n",
       "    <tr>\n",
       "      <th>15</th>\n",
       "      <td>Hebrew National</td>\n",
       "      <td>49</td>\n",
       "      <td>150</td>\n",
       "      <td>13</td>\n",
       "      <td>0.025</td>\n",
       "      <td>450</td>\n",
       "      <td>0</td>\n",
       "      <td>2</td>\n",
       "      <td>6</td>\n",
       "      <td>60</td>\n",
       "      <td>128.8</td>\n",
       "    </tr>\n",
       "    <tr>\n",
       "      <th>16</th>\n",
       "      <td>Oscar Mayer</td>\n",
       "      <td>45</td>\n",
       "      <td>110</td>\n",
       "      <td>10</td>\n",
       "      <td>0.035</td>\n",
       "      <td>0.42</td>\n",
       "      <td>0</td>\n",
       "      <td>1</td>\n",
       "      <td>5</td>\n",
       "      <td>100</td>\n",
       "      <td>165.5</td>\n",
       "    </tr>\n",
       "    <tr>\n",
       "      <th>17</th>\n",
       "      <td>Oscar Mayer</td>\n",
       "      <td>45</td>\n",
       "      <td>110</td>\n",
       "      <td>10</td>\n",
       "      <td>0.035</td>\n",
       "      <td>0.42</td>\n",
       "      <td>0</td>\n",
       "      <td>1</td>\n",
       "      <td>5</td>\n",
       "      <td>100</td>\n",
       "      <td>164.7</td>\n",
       "    </tr>\n",
       "    <tr>\n",
       "      <th>18</th>\n",
       "      <td>Oscar Mayer</td>\n",
       "      <td>45</td>\n",
       "      <td>110</td>\n",
       "      <td>10</td>\n",
       "      <td>0.035</td>\n",
       "      <td>0.42</td>\n",
       "      <td>0</td>\n",
       "      <td>1</td>\n",
       "      <td>5</td>\n",
       "      <td>90</td>\n",
       "      <td>156.5</td>\n",
       "    </tr>\n",
       "    <tr>\n",
       "      <th>19</th>\n",
       "      <td>Oscar Mayer</td>\n",
       "      <td>45</td>\n",
       "      <td>110</td>\n",
       "      <td>10</td>\n",
       "      <td>0.035</td>\n",
       "      <td>0.42</td>\n",
       "      <td>0</td>\n",
       "      <td>1</td>\n",
       "      <td>5</td>\n",
       "      <td>80</td>\n",
       "      <td>141</td>\n",
       "    </tr>\n",
       "    <tr>\n",
       "      <th>20</th>\n",
       "      <td>Oscar Mayer</td>\n",
       "      <td>45</td>\n",
       "      <td>110</td>\n",
       "      <td>10</td>\n",
       "      <td>0.035</td>\n",
       "      <td>0.42</td>\n",
       "      <td>0</td>\n",
       "      <td>1</td>\n",
       "      <td>5</td>\n",
       "      <td>60</td>\n",
       "      <td>115.1</td>\n",
       "    </tr>\n",
       "  </tbody>\n",
       "</table>\n",
       "</div>"
      ],
      "text/plain": [
       "0                          Dog Mass Calories Fat Cholesterol Sodium Potassium  \\\n",
       "1   Smart Dogs Veggie Hot Dogs   42       50   2           0   0.33      0.16   \n",
       "2   Smart Dogs Veggie Hot Dogs   42       50   2           0   0.33      0.16   \n",
       "3   Smart Dogs Veggie Hot Dogs   42       50   2           0   0.33      0.16   \n",
       "4   Smart Dogs Veggie Hot Dogs   42       50   2           0   0.33      0.16   \n",
       "5   Smart Dogs Veggie Hot Dogs   42       50   2           0   0.33      0.16   \n",
       "6             Ball Park Franks   53      130  11       0.045   0.48         0   \n",
       "7             Ball Park Franks   53      130  11       0.045   0.48         0   \n",
       "8             Ball Park Franks   53      130  11       0.045   0.48         0   \n",
       "9             Ball Park Franks   53      130  11       0.045   0.48         0   \n",
       "10            Ball Park Franks   53      130  11       0.045   0.48         0   \n",
       "11             Hebrew National   49      150  13       0.025    450         0   \n",
       "12             Hebrew National   49      150  13       0.025    450         0   \n",
       "13             Hebrew National   49      150  13       0.025    450         0   \n",
       "14             Hebrew National   49      150  13       0.025    450         0   \n",
       "15             Hebrew National   49      150  13       0.025    450         0   \n",
       "16                 Oscar Mayer   45      110  10       0.035   0.42         0   \n",
       "17                 Oscar Mayer   45      110  10       0.035   0.42         0   \n",
       "18                 Oscar Mayer   45      110  10       0.035   0.42         0   \n",
       "19                 Oscar Mayer   45      110  10       0.035   0.42         0   \n",
       "20                 Oscar Mayer   45      110  10       0.035   0.42         0   \n",
       "\n",
       "0  Carbohydrates Protein Time   Temp  \n",
       "1              2       7  100  156.6  \n",
       "2              2       7  100    163  \n",
       "3              2       7   90  155.4  \n",
       "4              2       7   80  140.5  \n",
       "5              2       7   60  115.2  \n",
       "6              2       5  100  166.1  \n",
       "7              2       5  100  164.2  \n",
       "8              2       5   90  158.9  \n",
       "9              2       5   80  149.2  \n",
       "10             2       5   60  128.6  \n",
       "11             2       6  100  166.6  \n",
       "12             2       6  100  165.2  \n",
       "13             2       6   90  159.7  \n",
       "14             2       6   80  149.6  \n",
       "15             2       6   60  128.8  \n",
       "16             1       5  100  165.5  \n",
       "17             1       5  100  164.7  \n",
       "18             1       5   90  156.5  \n",
       "19             1       5   80    141  \n",
       "20             1       5   60  115.1  "
      ]
     },
     "execution_count": 46,
     "metadata": {},
     "output_type": "execute_result"
    }
   ],
   "source": [
    "df.head(25)"
   ]
  },
  {
   "cell_type": "code",
   "execution_count": 47,
   "metadata": {
    "colab": {},
    "colab_type": "code",
    "id": "FhVb-RVa5JSO"
   },
   "outputs": [],
   "source": [
    "#Optimal Hotdog Temperature\n",
    "#Simple regression Approach\n",
    "\n",
    "from sklearn.linear_model import LinearRegression\n",
    "import pandas as pd\n",
    "import matplotlib.pyplot as plt\n",
    "model_names = ['Ball Park Franks', 'Oscar Mayer', 'Hebrew National', 'Veggie Dog']\n",
    "models = []\n",
    "IDEAL_TEMP = 193"
   ]
  },
  {
   "cell_type": "code",
   "execution_count": 48,
   "metadata": {
    "colab": {
     "base_uri": "https://localhost:8080/",
     "height": 293
    },
    "colab_type": "code",
    "id": "GKcrPoPG5JSS",
    "outputId": "0a8c362a-c21f-4386-b2eb-db57c3fcf14c"
   },
   "outputs": [],
   "source": [
    "#Trial 1\n",
    "#Linear Regression with Ball Park Franks\n",
    "\n",
    "ballpark_df = df.loc[df['Dog'] == \"Ball Park Franks\"]\n",
    "ballpark_X = ballpark_df['Time'].values.reshape(-1,1)\n",
    "ballpark_y = ballpark_df['Temp'].values\n",
    "\n",
    "ballpark_model = LinearRegression()\n",
    "ballpark_model.fit(ballpark_X, ballpark_y)\n",
    "models.append(ballpark_model)"
   ]
  },
  {
   "cell_type": "code",
   "execution_count": 49,
   "metadata": {
    "colab": {
     "base_uri": "https://localhost:8080/",
     "height": 255
    },
    "colab_type": "code",
    "id": "8-cwQeR25JSY",
    "outputId": "970db61a-a25d-4344-f92d-ed53a771f3c8"
   },
   "outputs": [],
   "source": [
    "ballpark_pred = hebrew_model.predict(ballpark_X)\n",
    "\n",
    "ballpark_X = list(map(float, ballpark_X))\n",
    "ballpark_y = list(map(float, ballpark_y))"
   ]
  },
  {
   "cell_type": "code",
   "execution_count": 50,
   "metadata": {
    "colab": {},
    "colab_type": "code",
    "id": "M6kFcAXI5JSc"
   },
   "outputs": [],
   "source": [
    "#Trial 2\n",
    "#Linear Regression with Oscar Mayer\n",
    "\n",
    "oscar_df = df.loc[df['Dog'] == \"Oscar Mayer\"]\n",
    "oscar_X = oscar_df['Time'].values.reshape(-1,1)\n",
    "oscar_y = oscar_df['Temp'].values\n",
    "\n",
    "oscar_model = LinearRegression()\n",
    "oscar_model.fit(oscar_X, oscar_y)\n",
    "models.append(oscar_model)"
   ]
  },
  {
   "cell_type": "code",
   "execution_count": 51,
   "metadata": {
    "colab": {
     "base_uri": "https://localhost:8080/",
     "height": 255
    },
    "colab_type": "code",
    "id": "9gEnuL_15JSf",
    "outputId": "cc821841-02f9-4720-f5a9-db5fc9e1cb39"
   },
   "outputs": [],
   "source": [
    "oscar_pred = oscar_model.predict(oscar_X)\n",
    "\n",
    "oscar_X = list(map(float, oscar_X))\n",
    "oscar_y = list(map(float, oscar_y))"
   ]
  },
  {
   "cell_type": "code",
   "execution_count": 52,
   "metadata": {
    "colab": {},
    "colab_type": "code",
    "id": "GEIhtM0H5JSi"
   },
   "outputs": [],
   "source": [
    "#Trial 3\n",
    "#Linear Regression with Hebrew National\n",
    "\n",
    "hebrew_df = df.loc[df['Dog'] == \"Hebrew National\"]\n",
    "hebrew_X = hebrew_df['Time'].values.reshape(-1,1)\n",
    "hebrew_y = hebrew_df['Temp'].values\n",
    "\n",
    "hebrew_model = LinearRegression()\n",
    "hebrew_model.fit(hebrew_X, hebrew_y)\n",
    "models.append(hebrew_model)"
   ]
  },
  {
   "cell_type": "code",
   "execution_count": 53,
   "metadata": {
    "colab": {
     "base_uri": "https://localhost:8080/",
     "height": 255
    },
    "colab_type": "code",
    "id": "zX_5OLQy5JSk",
    "outputId": "23dbc9df-45da-484d-837c-54a3bb5f5ad5"
   },
   "outputs": [],
   "source": [
    "hebrew_pred = hebrew_model.predict(hebrew_X)\n",
    "\n",
    "hebrew_X = list(map(float, hebrew_X))\n",
    "hebrew_y = list(map(float, hebrew_y))"
   ]
  },
  {
   "cell_type": "code",
   "execution_count": 54,
   "metadata": {
    "colab": {},
    "colab_type": "code",
    "id": "wdYue1nN5JSn"
   },
   "outputs": [],
   "source": [
    "#Trial 4\n",
    "#Linear Regression with Veggie Dog\n",
    "\n",
    "veggie_df = df.loc[df['Dog'] == \"Smart Dogs Veggie Hot Dogs\"]\n",
    "veggie_X = veggie_df['Time'].values.reshape(-1,1)\n",
    "veggie_y = veggie_df['Temp'].values\n",
    "\n",
    "veggie_model = LinearRegression()\n",
    "veggie_model.fit(veggie_X,veggie_y)\n",
    "models.append(veggie_model)"
   ]
  },
  {
   "cell_type": "code",
   "execution_count": 55,
   "metadata": {
    "colab": {
     "base_uri": "https://localhost:8080/",
     "height": 255
    },
    "colab_type": "code",
    "id": "N-7x39XF5JSq",
    "outputId": "ffed11d2-8076-424a-91c0-c8f6080aa9ed"
   },
   "outputs": [],
   "source": [
    "pred = veggie_model.predict(veggie_X)\n",
    "\n",
    "veggie_X = list(map(float, veggie_X))\n",
    "veggie_y = list(map(float, veggie_y))"
   ]
  },
  {
   "cell_type": "code",
   "execution_count": 72,
   "metadata": {},
   "outputs": [
    {
     "data": {
      "image/png": "[encoded data removed]",
      "text/plain": [
       "<matplotlib.figure.Figure at 0x7fc1a8742860>"
      ]
     },
     "metadata": {
      "needs_background": "light"
     },
     "output_type": "display_data"
    }
   ],
   "source": [
    "fig, axs = plt.subplots(2, 2)\n",
    "\n",
    "axs[0, 0].set_title(\"Ball Park Franks\")\n",
    "axs[0, 0].scatter(ballpark_X, ballpark_y, color='red')\n",
    "axs[0, 0].plot(ballpark_X, ballpark_pred, color='red', linewidth=3)\n",
    "axs[0, 0].set_xlabel(\"Time\")\n",
    "axs[0, 0].set_ylabel(\"Temperature (°F)\")\n",
    "\n",
    "axs[0, 1].set_title(\"Oscar Mayer\")\n",
    "axs[0, 1].scatter(oscar_X, oscar_y, color='blue')\n",
    "axs[0, 1].plot(oscar_X, oscar_pred, color='blue', linewidth=3)\n",
    "axs[0, 1].set_xlabel(\"Time\")\n",
    "axs[0, 1].set_ylabel(\"Temperature (°F)\")\n",
    "\n",
    "axs[1, 0].set_title(\"Hebrew National\")\n",
    "axs[1, 0].scatter(hebrew_X, hebrew_y,  color='green')\n",
    "axs[1, 0].plot(hebrew_X, hebrew_pred, color='green', linewidth=3)\n",
    "axs[1, 0].set_xlabel(\"Time\")\n",
    "axs[1, 0].set_ylabel(\"Temperature (°F)\")\n",
    "\n",
    "axs[1, 1].set_title(\"Lightlife\")\n",
    "axs[1, 1].scatter(veggie_X, veggie_y,  color='yellow')\n",
    "axs[1, 1].plot(veggie_X, pred, color='yellow', linewidth=3)\n",
    "axs[1, 1].set_xlabel(\"Time\")\n",
    "axs[1, 1].set_ylabel(\"Temperature (°F)\")\n",
    "\n",
    "fig.tight_layout()\n",
    "# plt.show()\n",
    "\n",
    "plt.savefig('linearRegression.png', bbox_inches='tight')"
   ]
  },
  {
   "cell_type": "code",
   "execution_count": 31,
   "metadata": {
    "colab": {
     "base_uri": "https://localhost:8080/",
     "height": 86
    },
    "colab_type": "code",
    "id": "8BGl9ikZ5JSt",
    "outputId": "edb7d74f-d30b-48b3-e6de-9d70a06a46cb",
    "scrolled": true
   },
   "outputs": [
    {
     "name": "stdout",
     "output_type": "stream",
     "text": [
      "Ideal cook time for Ball Park is [129.43976494]\n",
      "Ideal cook time for Oscar Mayer is [121.29485179]\n",
      "Ideal cook time for Hebrew National is [128.11873554]\n",
      "Ideal cook time for Veggie Dog is [127.72618858]\n"
     ]
    }
   ],
   "source": [
    "for model, name in zip(models, model_names):\n",
    "    cook_time = (IDEAL_TEMP - model.intercept_)/model.coef_\n",
    "    print(f'Ideal cook time for {name} is {cook_time}')"
   ]
  },
  {
   "cell_type": "code",
   "execution_count": 32,
   "metadata": {
    "colab": {},
    "colab_type": "code",
    "id": "TrNzrBvG5JSw"
   },
   "outputs": [],
   "source": []
  },
  {
   "cell_type": "code",
   "execution_count": null,
   "metadata": {},
   "outputs": [],
   "source": []
  }
 ],
 "metadata": {
  "colab": {
   "collapsed_sections": [],
   "name": "Copy of Hot Dog Regression.ipynb",
   "provenance": [],
   "version": "0.3.2"
  },
  "kernelspec": {
   "display_name": "Python 3",
   "language": "python",
   "name": "python3"
  },
  "language_info": {
   "codemirror_mode": {
    "name": "ipython",
    "version": 3
   },
   "file_extension": ".py",
   "mimetype": "text/x-python",
   "name": "python",
   "nbconvert_exporter": "python",
   "pygments_lexer": "ipython3",
   "version": "3.6.3"
  }
 },
 "nbformat": 4,
 "nbformat_minor": 1
}
