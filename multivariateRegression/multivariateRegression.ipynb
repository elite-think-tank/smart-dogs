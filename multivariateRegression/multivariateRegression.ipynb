{
 "cells": [
  {
   "cell_type": "markdown",
   "metadata": {
    "colab_type": "text",
    "id": "oJSGH_Ul6YVW"
   },
   "source": [
    "# Ingest Data"
   ]
  },
  {
   "cell_type": "code",
   "execution_count": 4,
   "metadata": {
    "colab": {
     "base_uri": "https://localhost:8080/",
     "height": 125
    },
    "colab_type": "code",
    "id": "VxPFwrVRYtjb",
    "outputId": "79dcde83-d3d8-4483-c422-48e7684b75e4"
   },
   "outputs": [],
   "source": [
    "import os\n",
    "import numpy as np\n",
    "import pandas as pd\n",
    "import dask.dataframe as dd"
   ]
  },
  {
   "cell_type": "code",
   "execution_count": 5,
   "metadata": {
    "colab": {},
    "colab_type": "code",
    "id": "XdCecKF_yFTw"
   },
   "outputs": [],
   "source": [
    "# set this to true to read from Open DataHub\n",
    "USE_ODH = False"
   ]
  },
  {
   "cell_type": "code",
   "execution_count": 6,
   "metadata": {
    "colab": {
     "base_uri": "https://localhost:8080/",
     "height": 35
    },
    "colab_type": "code",
    "id": "QzGLnu72w2wV",
    "outputId": "51b057e9-bdb6-497c-ddf8-e45873cdd517"
   },
   "outputs": [
    {
     "data": {
      "text/plain": [
       "'s3://'"
      ]
     },
     "execution_count": 6,
     "metadata": {},
     "output_type": "execute_result"
    }
   ],
   "source": [
    "# location of dataset csv on datahub s3\n",
    "BUCKET = \"\" # insert\n",
    "PREFIX = \"\" # insert\n",
    "FILENAME = \"\" # insert\n",
    "ENDPOINT_URL = \"\" # insert\n",
    "s3_path = \"s3://\" + os.path.join(BUCKET, PREFIX, FILENAME)\n",
    "s3_path"
   ]
  },
  {
   "cell_type": "markdown",
   "metadata": {
    "colab_type": "text",
    "id": "ka0FRCjEKAF6"
   },
   "source": [
    "**NOTE** If reading data from Open DataHub, make sure that access id and secret key are stored as one of the following ways:\n",
    "\n",
    "1. Inside `~/.aws/credentials` or `~/.aws/config` or `/etc/boto.cfg` or `~/.boto` as `aws_access_key_id=foobar` and `aws_secret_access_key=verysecret`\n",
    "2. Environment variables `AWS_ACCESS_KEY_ID=foobar` and `AWS_SECRET_ACCESS_KEY=verysecret`\n",
    "3. (NOT RECOMMENDED) Plain text string arguments in `storage_options` dict of `dask.dataframe.read_csv`"
   ]
  },
  {
   "cell_type": "code",
   "execution_count": 7,
   "metadata": {
    "colab": {},
    "colab_type": "code",
    "id": "JdQ8rme4Ytjh"
   },
   "outputs": [],
   "source": [
    "# read in from s3\n",
    "if USE_ODH:\n",
    "  df = dd.read_csv(\n",
    "      s3_path,\n",
    "      header=None,\n",
    "      storage_options={\n",
    "          \"client_kwargs\": {\"endpoint_url\": ENDPOINT_URL}\n",
    "      }\n",
    "  )\n",
    "  # data is small enough to be fit in memory\n",
    "  df = df.compute()\n",
    "  \n",
    "  df_trial = dd.read_csv(\n",
    "      s3_path,\n",
    "      header=None,\n",
    "      storage_options={\n",
    "          \"client_kwargs\": {\"endpoint_url\": ENDPOINT_URL}\n",
    "      }\n",
    "  )\n",
    "  # data is small enough to be fit in memory\n",
    "  df_trial = df_trial.compute()\n",
    "else:\n",
    "  df = pd.read_csv('allDogs.csv', header=None)\n",
    "  df_trial = pd.read_csv('trialDogs.csv', header=None)\n",
    "  \n",
    "# prettify df\n",
    "df = df.transpose()\n",
    "new_header = df.iloc[0] \n",
    "df = df[1:] \n",
    "df.columns = new_header\n",
    "\n",
    "# read in trial csv\n",
    "df_trial = df_trial.transpose()\n",
    "new_header = df_trial.iloc[0] \n",
    "df_trial = df_trial[1:] \n",
    "df_trial.columns = new_header"
   ]
  },
  {
   "cell_type": "code",
   "execution_count": 22,
   "metadata": {
    "colab": {
     "base_uri": "https://localhost:8080/",
     "height": 677
    },
    "colab_type": "code",
    "id": "_fZIPtLNYtjl",
    "outputId": "56490e79-13b8-4507-eedb-f57e1bf72fce"
   },
   "outputs": [
    {
     "data": {
      "text/html": [
       "<div>\n",
       "<table border=\"1\" class=\"dataframe\">\n",
       "  <thead>\n",
       "    <tr style=\"text-align: right;\">\n",
       "      <th></th>\n",
       "      <th>Dog</th>\n",
       "      <th>Mass</th>\n",
       "      <th>Calories</th>\n",
       "      <th>Fat</th>\n",
       "      <th>Cholesterol</th>\n",
       "      <th>Sodium</th>\n",
       "      <th>Potassium</th>\n",
       "      <th>Carbohydrates</th>\n",
       "      <th>Protein</th>\n",
       "      <th>Temp</th>\n",
       "    </tr>\n",
       "  </thead>\n",
       "  <tbody>\n",
       "    <tr>\n",
       "      <th>1</th>\n",
       "      <td>Smart Dogs Veggie Hot Dogs</td>\n",
       "      <td>42</td>\n",
       "      <td>50</td>\n",
       "      <td>2</td>\n",
       "      <td>0</td>\n",
       "      <td>0.33</td>\n",
       "      <td>0.16</td>\n",
       "      <td>2</td>\n",
       "      <td>7</td>\n",
       "      <td>193</td>\n",
       "    </tr>\n",
       "    <tr>\n",
       "      <th>2</th>\n",
       "      <td>Franks Ball Park</td>\n",
       "      <td>53</td>\n",
       "      <td>130</td>\n",
       "      <td>11</td>\n",
       "      <td>0.045</td>\n",
       "      <td>0.48</td>\n",
       "      <td>0</td>\n",
       "      <td>2</td>\n",
       "      <td>5</td>\n",
       "      <td>193</td>\n",
       "    </tr>\n",
       "    <tr>\n",
       "      <th>3</th>\n",
       "      <td>Hebrew National</td>\n",
       "      <td>49</td>\n",
       "      <td>150</td>\n",
       "      <td>13</td>\n",
       "      <td>0.025</td>\n",
       "      <td>450</td>\n",
       "      <td>0</td>\n",
       "      <td>2</td>\n",
       "      <td>6</td>\n",
       "      <td>193</td>\n",
       "    </tr>\n",
       "    <tr>\n",
       "      <th>4</th>\n",
       "      <td>Oscar Mayer</td>\n",
       "      <td>45</td>\n",
       "      <td>110</td>\n",
       "      <td>10</td>\n",
       "      <td>0.035</td>\n",
       "      <td>0.42</td>\n",
       "      <td>0</td>\n",
       "      <td>1</td>\n",
       "      <td>5</td>\n",
       "      <td>193</td>\n",
       "    </tr>\n",
       "  </tbody>\n",
       "</table>\n",
       "</div>"
      ],
      "text/plain": [
       "0                         Dog Mass Calories Fat Cholesterol Sodium Potassium  \\\n",
       "1  Smart Dogs Veggie Hot Dogs   42       50   2           0   0.33      0.16   \n",
       "2            Franks Ball Park   53      130  11       0.045   0.48         0   \n",
       "3             Hebrew National   49      150  13       0.025    450         0   \n",
       "4                 Oscar Mayer   45      110  10       0.035   0.42         0   \n",
       "\n",
       "0 Carbohydrates Protein Temp  \n",
       "1             2       7  193  \n",
       "2             2       5  193  \n",
       "3             2       6  193  \n",
       "4             1       5  193  "
      ]
     },
     "execution_count": 22,
     "metadata": {},
     "output_type": "execute_result"
    }
   ],
   "source": [
    "df_trial.head(25)"
   ]
  },
  {
   "cell_type": "markdown",
   "metadata": {
    "colab_type": "text",
    "id": "YSoo-w6m6dXz"
   },
   "source": [
    "# Prepare + Preprocess Data"
   ]
  },
  {
   "cell_type": "code",
   "execution_count": 9,
   "metadata": {
    "colab": {},
    "colab_type": "code",
    "id": "t_uN-GaY6nWK"
   },
   "outputs": [],
   "source": [
    "from sklearn.preprocessing import PolynomialFeatures\n",
    "from sklearn.model_selection import train_test_split"
   ]
  },
  {
   "cell_type": "code",
   "execution_count": 11,
   "metadata": {
    "colab": {
     "base_uri": "https://localhost:8080/",
     "height": 208
    },
    "colab_type": "code",
    "id": "XIHIfj1QYtjp",
    "outputId": "ade0f5cb-aa16-4b94-b7a5-580830c742ef"
   },
   "outputs": [],
   "source": [
    "# split data and regressor variable\n",
    "X_values = df.drop(['Time', 'Dog'], axis=1)\n",
    "y_values = df['Time']\n",
    "\n",
    "# clean trial data\n",
    "X_trial = df_trial.drop(['Dog'], axis=1)"
   ]
  },
  {
   "cell_type": "code",
   "execution_count": 12,
   "metadata": {
    "colab": {},
    "colab_type": "code",
    "id": "6gyVQC9q6yi1"
   },
   "outputs": [],
   "source": [
    "# one hot encode hotdog type\n",
    "# X_values = X_values.join(pd.get_dummies(df['Dog'])).drop('Dog', axis=1)\n",
    "# X_values.head()"
   ]
  },
  {
   "cell_type": "code",
   "execution_count": 13,
   "metadata": {
    "colab": {},
    "colab_type": "code",
    "id": "v-P7g4hT7GV9"
   },
   "outputs": [],
   "source": [
    "# add polynomial features to help capture non linearity\n",
    "poly_featurizer = PolynomialFeatures(degree=2)\n",
    "X_values = poly_featurizer.fit_transform(X_values)\n",
    "\n",
    "X_trial = poly_featurizer.fit_transform(X_trial)"
   ]
  },
  {
   "cell_type": "code",
   "execution_count": 14,
   "metadata": {
    "colab": {},
    "colab_type": "code",
    "id": "LWwknliI6pDy"
   },
   "outputs": [],
   "source": [
    "# split into train-test sets\n",
    "X_train, X_test, y_train, y_test = train_test_split(X_values, y_values, test_size=0.2, random_state=24)"
   ]
  },
  {
   "cell_type": "markdown",
   "metadata": {
    "colab_type": "text",
    "id": "KBNXi6I86R3E"
   },
   "source": [
    "# Train Models"
   ]
  },
  {
   "cell_type": "code",
   "execution_count": 15,
   "metadata": {
    "colab": {},
    "colab_type": "code",
    "id": "xyXaq8Jo79c7"
   },
   "outputs": [],
   "source": [
    "from sklearn.linear_model import LinearRegression\n",
    "from sklearn.svm import SVR\n",
    "\n",
    "from sklearn.metrics import r2_score"
   ]
  },
  {
   "cell_type": "code",
   "execution_count": 16,
   "metadata": {
    "colab": {
     "base_uri": "https://localhost:8080/",
     "height": 34
    },
    "colab_type": "code",
    "id": "CFI6VzkgYtjt",
    "outputId": "ccf6ea55-5982-4920-deed-5d524e401996"
   },
   "outputs": [
    {
     "data": {
      "text/plain": [
       "0.8905341899728052"
      ]
     },
     "execution_count": 16,
     "metadata": {},
     "output_type": "execute_result"
    }
   ],
   "source": [
    "# fit linear reg model\n",
    "model = LinearRegression()\n",
    "model.fit(X_train, y_train)\n",
    "\n",
    "r2_score(y_true=y_test, y_pred=model.predict(X_test))"
   ]
  },
  {
   "cell_type": "code",
   "execution_count": 17,
   "metadata": {
    "colab": {
     "base_uri": "https://localhost:8080/",
     "height": 34
    },
    "colab_type": "code",
    "id": "-GkvCDY88dg9",
    "outputId": "5ed4efb7-2a88-490d-a19f-af6cdccbd41d"
   },
   "outputs": [
    {
     "data": {
      "text/plain": [
       "0.7362349432168893"
      ]
     },
     "execution_count": 17,
     "metadata": {},
     "output_type": "execute_result"
    }
   ],
   "source": [
    "# fit support vector regressor\n",
    "svr_lin = SVR(kernel='linear', C=0.005, epsilon=0.75)\n",
    "svr_lin.fit(X_train, y_train)\n",
    "\n",
    "r2_score(y_true=y_test, y_pred=svr_lin.predict(X_test))"
   ]
  },
  {
   "cell_type": "code",
   "execution_count": 18,
   "metadata": {
    "colab": {
     "base_uri": "https://localhost:8080/",
     "height": 237
    },
    "colab_type": "code",
    "id": "WWvO3CMZYtjw",
    "outputId": "83400896-da96-49e5-e333-39a31bf7b431"
   },
   "outputs": [
    {
     "ename": "AttributeError",
     "evalue": "'numpy.ndarray' object has no attribute 'columns'",
     "output_type": "error",
     "traceback": [
      "\u001b[0;31m---------------------------------------------------------------------------\u001b[0m",
      "\u001b[0;31mAttributeError\u001b[0m                            Traceback (most recent call last)",
      "\u001b[0;32m<ipython-input-18-9af9df25ba18>\u001b[0m in \u001b[0;36m<module>\u001b[0;34m\u001b[0m\n\u001b[1;32m      2\u001b[0m \u001b[0mequation\u001b[0m \u001b[0;34m=\u001b[0m \u001b[0;34mf'temp = {round(model.intercept_, 4)}'\u001b[0m\u001b[0;34m\u001b[0m\u001b[0m\n\u001b[1;32m      3\u001b[0m \u001b[0;32mfor\u001b[0m \u001b[0mi\u001b[0m \u001b[0;32min\u001b[0m \u001b[0mrange\u001b[0m\u001b[0;34m(\u001b[0m\u001b[0mlen\u001b[0m\u001b[0;34m(\u001b[0m\u001b[0mmodel\u001b[0m\u001b[0;34m.\u001b[0m\u001b[0mcoef_\u001b[0m\u001b[0;34m)\u001b[0m\u001b[0;34m)\u001b[0m\u001b[0;34m:\u001b[0m\u001b[0;34m\u001b[0m\u001b[0m\n\u001b[0;32m----> 4\u001b[0;31m     \u001b[0mequation\u001b[0m\u001b[0;34m+=\u001b[0m \u001b[0;34mf' + {round(model.coef_[i],4)}*{X_values.columns[i]}'\u001b[0m\u001b[0;34m\u001b[0m\u001b[0m\n\u001b[0m\u001b[1;32m      5\u001b[0m \u001b[0;34m\u001b[0m\u001b[0m\n\u001b[1;32m      6\u001b[0m \u001b[0mprint\u001b[0m\u001b[0;34m(\u001b[0m\u001b[0mequation\u001b[0m\u001b[0;34m)\u001b[0m\u001b[0;34m\u001b[0m\u001b[0m\n",
      "\u001b[0;31mAttributeError\u001b[0m: 'numpy.ndarray' object has no attribute 'columns'"
     ]
    }
   ],
   "source": [
    "# print equation - # FIXME: how do we print the nonlinear variables\n",
    "equation = f'temp = {round(model.intercept_, 4)}'\n",
    "for i in range(len(model.coef_)):\n",
    "    equation+= f' + {round(model.coef_[i],4)}*{X_values.columns[i]}'\n",
    "    \n",
    "print(equation)"
   ]
  },
  {
   "cell_type": "markdown",
   "metadata": {},
   "source": [
    "# Visualize Results"
   ]
  },
  {
   "cell_type": "code",
   "execution_count": 31,
   "metadata": {},
   "outputs": [],
   "source": [
    "import matplotlib.pyplot as plt"
   ]
  },
  {
   "cell_type": "code",
   "execution_count": 52,
   "metadata": {
    "colab": {
     "base_uri": "https://localhost:8080/",
     "height": 34
    },
    "colab_type": "code",
    "id": "Z9HWEOQSYzvd",
    "outputId": "ec9b6cd6-69a5-4084-8a23-ba620ec31be8"
   },
   "outputs": [
    {
     "name": "stdout",
     "output_type": "stream",
     "text": [
      "Ideal cook time for Ball Park Franks is 132.32339233164745\n",
      "Ideal cook time for Oscar Mayer is 128.96288567790285\n",
      "Ideal cook time for Hebrew National is 132.0039825855198\n",
      "Ideal cook time for Veggie Dog is 127.48185229769214\n"
     ]
    },
    {
     "data": {
      "image/png": "[encoded data removed]",
      "text/plain": [
       "<matplotlib.figure.Figure at 0x7fb35cb63550>"
      ]
     },
     "metadata": {
      "needs_background": "light"
     },
     "output_type": "display_data"
    }
   ],
   "source": [
    "predictions = model.predict(X_trial)\n",
    "model_names = ['Ball Park Franks', 'Oscar Mayer', 'Hebrew National', 'Veggie Dog']\n",
    "\n",
    "plt.plot(X_trial, predictions)\n",
    "plt.xlim(0, 50)\n",
    "plt.savefig('multivariateRegression.png', bbox_inches='tight')\n",
    "\n",
    "for prediction, name in zip(predictions, model_names):\n",
    "    print(f'Ideal cook time for {name} is {prediction}')"
   ]
  },
  {
   "cell_type": "code",
   "execution_count": null,
   "metadata": {},
   "outputs": [],
   "source": []
  }
 ],
 "metadata": {
  "colab": {
   "collapsed_sections": [],
   "name": "hotdog_multivariate.ipynb",
   "provenance": [],
   "version": "0.3.2"
  },
  "kernelspec": {
   "display_name": "Python 3",
   "language": "python",
   "name": "python3"
  },
  "language_info": {
   "codemirror_mode": {
    "name": "ipython",
    "version": 3
   },
   "file_extension": ".py",
   "mimetype": "text/x-python",
   "name": "python",
   "nbconvert_exporter": "python",
   "pygments_lexer": "ipython3",
   "version": "3.6.3"
  }
 },
 "nbformat": 4,
 "nbformat_minor": 1
}
